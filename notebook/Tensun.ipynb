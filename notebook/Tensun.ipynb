{
  "nbformat": 4,
  "nbformat_minor": 5,
  "metadata": {
    "kernelspec": {
      "display_name": "Python 3 (ipykernel)",
      "language": "python",
      "name": "python3"
    },
    "language_info": {
      "codemirror_mode": {
        "name": "ipython",
        "version": 3
      },
      "file_extension": ".py",
      "mimetype": "text/x-python",
      "name": "python",
      "nbconvert_exporter": "python",
      "pygments_lexer": "ipython3",
      "version": "3.8.2"
    },
    "colab": {
      "name": "Tensun.ipynb",
      "provenance": [],
      "collapsed_sections": [
        "920a2941",
        "57fcb08c"
      ]
    },
    "accelerator": "GPU"
  },
  "cells": [
    {
      "cell_type": "markdown",
      "metadata": {
        "id": "1eae882b"
      },
      "source": [
        "## Gender Based Violence - Tweet classification challenge "
      ],
      "id": "1eae882b"
    },
    {
      "cell_type": "markdown",
      "metadata": {
        "id": "03a7278b"
      },
      "source": [
        "This challenge aims to classify tweets about GBV without using keywords.\n",
        "\n",
        "Are you able to develop a machine learning model that can classify a tweet about gender-based violence into either of the five categories:\n",
        "- Sexual violence\n",
        "- Emotional violence\n",
        "- Economic violence\n",
        "- Physical violence\n",
        "- Harmful traditional practice\n"
      ],
      "id": "03a7278b"
    },
    {
      "cell_type": "markdown",
      "metadata": {
        "id": "cacbe91e"
      },
      "source": [
        "### import libraries/modules"
      ],
      "id": "cacbe91e"
    },
    {
      "cell_type": "code",
      "metadata": {
        "id": "9vawIPXRdVHL",
        "colab": {
          "base_uri": "https://localhost:8080/"
        },
        "outputId": "3afb9175-31d6-42b8-efb1-fc7c96fd7742"
      },
      "source": [
        "!pip install tensorflow-text --quiet"
      ],
      "id": "9vawIPXRdVHL",
      "execution_count": 1,
      "outputs": [
        {
          "output_type": "stream",
          "name": "stdout",
          "text": [
            "\u001b[K     |████████████████████████████████| 4.9 MB 5.1 MB/s \n",
            "\u001b[?25h"
          ]
        }
      ]
    },
    {
      "cell_type": "code",
      "metadata": {
        "id": "f72LPw7GdXYT",
        "colab": {
          "base_uri": "https://localhost:8080/"
        },
        "outputId": "c33ab60e-63bb-4fed-bfcf-b90f70fb9bb5"
      },
      "source": [
        "!pip install -q tf-models-official --quiet"
      ],
      "id": "f72LPw7GdXYT",
      "execution_count": 2,
      "outputs": [
        {
          "output_type": "stream",
          "name": "stdout",
          "text": [
            "\u001b[K     |████████████████████████████████| 1.8 MB 5.2 MB/s \n",
            "\u001b[K     |████████████████████████████████| 1.2 MB 35.4 MB/s \n",
            "\u001b[K     |████████████████████████████████| 213 kB 45.5 MB/s \n",
            "\u001b[K     |████████████████████████████████| 47.6 MB 1.5 MB/s \n",
            "\u001b[K     |████████████████████████████████| 596 kB 53.2 MB/s \n",
            "\u001b[K     |████████████████████████████████| 1.1 MB 40.4 MB/s \n",
            "\u001b[K     |████████████████████████████████| 352 kB 31.9 MB/s \n",
            "\u001b[K     |████████████████████████████████| 43 kB 2.0 MB/s \n",
            "\u001b[K     |████████████████████████████████| 99 kB 7.8 MB/s \n",
            "\u001b[K     |████████████████████████████████| 90 kB 8.9 MB/s \n",
            "\u001b[?25h  Building wheel for py-cpuinfo (setup.py) ... \u001b[?25l\u001b[?25hdone\n",
            "  Building wheel for seqeval (setup.py) ... \u001b[?25l\u001b[?25hdone\n"
          ]
        }
      ]
    },
    {
      "cell_type": "code",
      "metadata": {
        "id": "70cb6041"
      },
      "source": [
        "import pandas as pd\n",
        "import numpy as np\n",
        "import seaborn as sns\n",
        "import numpy as np\n",
        "import spacy\n",
        "import time \n",
        "from sklearn.model_selection import KFold, StratifiedKFold, train_test_split\n",
        "from official.nlp import optimization  # to create AdamW optimizer\n",
        "\n",
        "\n",
        "import warnings\n",
        "warnings.filterwarnings('ignore')\n",
        "\n",
        "import tensorflow as tf\n",
        "import tensorflow_text as text\n",
        "from tensorflow import keras\n",
        "from tensorflow.keras import layers\n",
        "from tensorflow.keras.layers import TextVectorization\n",
        "from tensorflow.keras import Model\n",
        "import tensorflow_hub as hub"
      ],
      "id": "70cb6041",
      "execution_count": 41,
      "outputs": []
    },
    {
      "cell_type": "code",
      "metadata": {
        "id": "uk8m6iAJUsxe"
      },
      "source": [
        "np.random.seed(1)\n",
        "tf.random.set_seed(123)"
      ],
      "id": "uk8m6iAJUsxe",
      "execution_count": 42,
      "outputs": []
    },
    {
      "cell_type": "markdown",
      "metadata": {
        "id": "8ee9677a"
      },
      "source": [
        "### load the dataset"
      ],
      "id": "8ee9677a"
    },
    {
      "cell_type": "code",
      "metadata": {
        "id": "e85f5498"
      },
      "source": [
        "train = pd.read_csv(\"https://raw.githubusercontent.com/Josepholaidepetro/Gender-Based-Violence-Tweet-Classification-Challenge/main/data/Train.csv\")\n",
        "test = pd.read_csv(\"https://raw.githubusercontent.com/Josepholaidepetro/Gender-Based-Violence-Tweet-Classification-Challenge/main/data/Test.csv\")\n",
        "sub = pd.read_csv('https://raw.githubusercontent.com/Josepholaidepetro/UN-Tweety-Goal-5/main/data/SampleSubmission.csv')"
      ],
      "id": "e85f5498",
      "execution_count": 43,
      "outputs": []
    },
    {
      "cell_type": "code",
      "metadata": {
        "colab": {
          "base_uri": "https://localhost:8080/",
          "height": 206
        },
        "id": "ruFdHaRx5kOs",
        "outputId": "fad81f3f-1df5-4000-a607-52309454c554"
      },
      "source": [
        "test.head()"
      ],
      "id": "ruFdHaRx5kOs",
      "execution_count": 44,
      "outputs": [
        {
          "output_type": "execute_result",
          "data": {
            "text/html": [
              "<div>\n",
              "<style scoped>\n",
              "    .dataframe tbody tr th:only-of-type {\n",
              "        vertical-align: middle;\n",
              "    }\n",
              "\n",
              "    .dataframe tbody tr th {\n",
              "        vertical-align: top;\n",
              "    }\n",
              "\n",
              "    .dataframe thead th {\n",
              "        text-align: right;\n",
              "    }\n",
              "</style>\n",
              "<table border=\"1\" class=\"dataframe\">\n",
              "  <thead>\n",
              "    <tr style=\"text-align: right;\">\n",
              "      <th></th>\n",
              "      <th>Tweet_ID</th>\n",
              "      <th>tweet</th>\n",
              "    </tr>\n",
              "  </thead>\n",
              "  <tbody>\n",
              "    <tr>\n",
              "      <th>0</th>\n",
              "      <td>ID_0095QL4S</td>\n",
              "      <td>because he was my boyfriend, and if I said no,...</td>\n",
              "    </tr>\n",
              "    <tr>\n",
              "      <th>1</th>\n",
              "      <td>ID_00DREW5O</td>\n",
              "      <td>lol no, I'm telling you it's not legal. It's l...</td>\n",
              "    </tr>\n",
              "    <tr>\n",
              "      <th>2</th>\n",
              "      <td>ID_00E9F5X9</td>\n",
              "      <td>Somalia's semi-autonomous Puntland region has ...</td>\n",
              "    </tr>\n",
              "    <tr>\n",
              "      <th>3</th>\n",
              "      <td>ID_00G9OSKZ</td>\n",
              "      <td>University of Cape Coast students being robbed...</td>\n",
              "    </tr>\n",
              "    <tr>\n",
              "      <th>4</th>\n",
              "      <td>ID_00HU96U6</td>\n",
              "      <td>\"Somebody came up behind him and stabbed him i...</td>\n",
              "    </tr>\n",
              "  </tbody>\n",
              "</table>\n",
              "</div>"
            ],
            "text/plain": [
              "      Tweet_ID                                              tweet\n",
              "0  ID_0095QL4S  because he was my boyfriend, and if I said no,...\n",
              "1  ID_00DREW5O  lol no, I'm telling you it's not legal. It's l...\n",
              "2  ID_00E9F5X9  Somalia's semi-autonomous Puntland region has ...\n",
              "3  ID_00G9OSKZ  University of Cape Coast students being robbed...\n",
              "4  ID_00HU96U6  \"Somebody came up behind him and stabbed him i..."
            ]
          },
          "metadata": {},
          "execution_count": 44
        }
      ]
    },
    {
      "cell_type": "markdown",
      "metadata": {
        "id": "add38737"
      },
      "source": [
        "### EDA"
      ],
      "id": "add38737"
    },
    {
      "cell_type": "code",
      "metadata": {
        "colab": {
          "base_uri": "https://localhost:8080/"
        },
        "id": "124a550f",
        "outputId": "30f7827d-2943-4531-a0ff-eb91b2df5b8f"
      },
      "source": [
        "train.shape # the training dataset has 39650 rows"
      ],
      "id": "124a550f",
      "execution_count": 45,
      "outputs": [
        {
          "output_type": "execute_result",
          "data": {
            "text/plain": [
              "(39650, 3)"
            ]
          },
          "metadata": {},
          "execution_count": 45
        }
      ]
    },
    {
      "cell_type": "code",
      "metadata": {
        "colab": {
          "base_uri": "https://localhost:8080/"
        },
        "id": "17475bf4",
        "outputId": "2db64d58-1354-40c5-bd47-3acf697e1e4a"
      },
      "source": [
        "train[\"type\"].unique()"
      ],
      "id": "17475bf4",
      "execution_count": 46,
      "outputs": [
        {
          "output_type": "execute_result",
          "data": {
            "text/plain": [
              "array(['sexual_violence', 'Physical_violence', 'emotional_violence',\n",
              "       'Harmful_Traditional_practice', 'economic_violence'], dtype=object)"
            ]
          },
          "metadata": {},
          "execution_count": 46
        }
      ]
    },
    {
      "cell_type": "code",
      "metadata": {
        "colab": {
          "base_uri": "https://localhost:8080/",
          "height": 536
        },
        "id": "36840eac",
        "outputId": "5798fc73-5f91-49fa-8a5a-e4fc411d69ec"
      },
      "source": [
        "sns.set(rc={'figure.figsize':(11.7,8.27)})\n",
        "\n",
        "sns.countplot(x=train[\"type\"])"
      ],
      "id": "36840eac",
      "execution_count": 47,
      "outputs": [
        {
          "output_type": "execute_result",
          "data": {
            "text/plain": [
              "<matplotlib.axes._subplots.AxesSubplot at 0x7f10fe2a2950>"
            ]
          },
          "metadata": {},
          "execution_count": 47
        },
        {
          "output_type": "display_data",
          "data": {
            "image/png": "[encoded data removed]",
            "text/plain": [
              "<Figure size 842.4x595.44 with 1 Axes>"
            ]
          },
          "metadata": {}
        }
      ]
    },
    {
      "cell_type": "markdown",
      "metadata": {
        "id": "e07cc3f7"
      },
      "source": [
        "This dataset is highly imbalanced; from the graphs above, sexual violence is about 80%+. "
      ],
      "id": "e07cc3f7"
    },
    {
      "cell_type": "code",
      "metadata": {
        "colab": {
          "base_uri": "https://localhost:8080/"
        },
        "id": "b056e31f",
        "outputId": "71ddf41c-4761-4ab8-c92a-6e7123ae6640"
      },
      "source": [
        "test.shape # the test dataset has 15581 rows"
      ],
      "id": "b056e31f",
      "execution_count": 48,
      "outputs": [
        {
          "output_type": "execute_result",
          "data": {
            "text/plain": [
              "(15581, 2)"
            ]
          },
          "metadata": {},
          "execution_count": 48
        }
      ]
    },
    {
      "cell_type": "code",
      "metadata": {
        "id": "KyrxTC3jVOCY"
      },
      "source": [
        "X = train['tweet'].values\n",
        "y = train[\"type\"]"
      ],
      "id": "KyrxTC3jVOCY",
      "execution_count": 49,
      "outputs": []
    },
    {
      "cell_type": "code",
      "metadata": {
        "id": "5Nz5axMTYg26"
      },
      "source": [
        "from sklearn.preprocessing import LabelEncoder\n",
        "le = LabelEncoder()        \n",
        "y = le.fit_transform(y)"
      ],
      "id": "5Nz5axMTYg26",
      "execution_count": 50,
      "outputs": []
    },
    {
      "cell_type": "code",
      "metadata": {
        "id": "nAVbMcUpEPQC"
      },
      "source": [
        "train_df = pd.DataFrame(X, columns=['tweet'])\n",
        "train_df['type'] = y"
      ],
      "id": "nAVbMcUpEPQC",
      "execution_count": 53,
      "outputs": []
    },
    {
      "cell_type": "markdown",
      "metadata": {
        "id": "PcPKQuPB_qCt"
      },
      "source": [
        "# Bert"
      ],
      "id": "PcPKQuPB_qCt"
    },
    {
      "cell_type": "code",
      "metadata": {
        "colab": {
          "base_uri": "https://localhost:8080/"
        },
        "id": "SbUOdpHbZEcn",
        "cellView": "form",
        "outputId": "0e445574-fe76-4d34-8709-134bf6ab087f"
      },
      "source": [
        "#@title Choose a BERT model to fine-tune\n",
        "\n",
        "bert_model_name = 'small_bert/bert_en_uncased_L-2_H-128_A-2'  #@param [\"bert_en_uncased_L-12_H-768_A-12\", \"bert_en_cased_L-12_H-768_A-12\", \"bert_multi_cased_L-12_H-768_A-12\", \"small_bert/bert_en_uncased_L-2_H-128_A-2\", \"small_bert/bert_en_uncased_L-2_H-256_A-4\", \"small_bert/bert_en_uncased_L-2_H-512_A-8\", \"small_bert/bert_en_uncased_L-2_H-768_A-12\", \"small_bert/bert_en_uncased_L-4_H-128_A-2\", \"small_bert/bert_en_uncased_L-4_H-256_A-4\", \"small_bert/bert_en_uncased_L-4_H-512_A-8\", \"small_bert/bert_en_uncased_L-4_H-768_A-12\", \"small_bert/bert_en_uncased_L-6_H-128_A-2\", \"small_bert/bert_en_uncased_L-6_H-256_A-4\", \"small_bert/bert_en_uncased_L-6_H-512_A-8\", \"small_bert/bert_en_uncased_L-6_H-768_A-12\", \"small_bert/bert_en_uncased_L-8_H-128_A-2\", \"small_bert/bert_en_uncased_L-8_H-256_A-4\", \"small_bert/bert_en_uncased_L-8_H-512_A-8\", \"small_bert/bert_en_uncased_L-8_H-768_A-12\", \"small_bert/bert_en_uncased_L-10_H-128_A-2\", \"small_bert/bert_en_uncased_L-10_H-256_A-4\", \"small_bert/bert_en_uncased_L-10_H-512_A-8\", \"small_bert/bert_en_uncased_L-10_H-768_A-12\", \"small_bert/bert_en_uncased_L-12_H-128_A-2\", \"small_bert/bert_en_uncased_L-12_H-256_A-4\", \"small_bert/bert_en_uncased_L-12_H-512_A-8\", \"small_bert/bert_en_uncased_L-12_H-768_A-12\", \"albert_en_base\", \"electra_small\", \"electra_base\", \"experts_pubmed\", \"experts_wiki_books\", \"talking-heads_base\"]\n",
        "\n",
        "map_name_to_handle = {\n",
        "    'bert_en_uncased_L-12_H-768_A-12':\n",
        "        'https://tfhub.dev/tensorflow/bert_en_uncased_L-12_H-768_A-12/3',\n",
        "    'bert_en_cased_L-12_H-768_A-12':\n",
        "        'https://tfhub.dev/tensorflow/bert_en_cased_L-12_H-768_A-12/3',\n",
        "    'bert_multi_cased_L-12_H-768_A-12':\n",
        "        'https://tfhub.dev/tensorflow/bert_multi_cased_L-12_H-768_A-12/3',\n",
        "    'small_bert/bert_en_uncased_L-2_H-128_A-2':\n",
        "        'https://tfhub.dev/tensorflow/small_bert/bert_en_uncased_L-2_H-128_A-2/1',\n",
        "    'small_bert/bert_en_uncased_L-2_H-256_A-4':\n",
        "        'https://tfhub.dev/tensorflow/small_bert/bert_en_uncased_L-2_H-256_A-4/1',\n",
        "    'small_bert/bert_en_uncased_L-2_H-512_A-8':\n",
        "        'https://tfhub.dev/tensorflow/small_bert/bert_en_uncased_L-2_H-512_A-8/1',\n",
        "    'small_bert/bert_en_uncased_L-2_H-768_A-12':\n",
        "        'https://tfhub.dev/tensorflow/small_bert/bert_en_uncased_L-2_H-768_A-12/1',\n",
        "    'small_bert/bert_en_uncased_L-4_H-128_A-2':\n",
        "        'https://tfhub.dev/tensorflow/small_bert/bert_en_uncased_L-4_H-128_A-2/1',\n",
        "    'small_bert/bert_en_uncased_L-4_H-256_A-4':\n",
        "        'https://tfhub.dev/tensorflow/small_bert/bert_en_uncased_L-4_H-256_A-4/1',\n",
        "    'small_bert/bert_en_uncased_L-4_H-512_A-8':\n",
        "        'https://tfhub.dev/tensorflow/small_bert/bert_en_uncased_L-4_H-512_A-8/1',\n",
        "    'small_bert/bert_en_uncased_L-4_H-768_A-12':\n",
        "        'https://tfhub.dev/tensorflow/small_bert/bert_en_uncased_L-4_H-768_A-12/1',\n",
        "    'small_bert/bert_en_uncased_L-6_H-128_A-2':\n",
        "        'https://tfhub.dev/tensorflow/small_bert/bert_en_uncased_L-6_H-128_A-2/1',\n",
        "    'small_bert/bert_en_uncased_L-6_H-256_A-4':\n",
        "        'https://tfhub.dev/tensorflow/small_bert/bert_en_uncased_L-6_H-256_A-4/1',\n",
        "    'small_bert/bert_en_uncased_L-6_H-512_A-8':\n",
        "        'https://tfhub.dev/tensorflow/small_bert/bert_en_uncased_L-6_H-512_A-8/1',\n",
        "    'small_bert/bert_en_uncased_L-6_H-768_A-12':\n",
        "        'https://tfhub.dev/tensorflow/small_bert/bert_en_uncased_L-6_H-768_A-12/1',\n",
        "    'small_bert/bert_en_uncased_L-8_H-128_A-2':\n",
        "        'https://tfhub.dev/tensorflow/small_bert/bert_en_uncased_L-8_H-128_A-2/1',\n",
        "    'small_bert/bert_en_uncased_L-8_H-256_A-4':\n",
        "        'https://tfhub.dev/tensorflow/small_bert/bert_en_uncased_L-8_H-256_A-4/1',\n",
        "    'small_bert/bert_en_uncased_L-8_H-512_A-8':\n",
        "        'https://tfhub.dev/tensorflow/small_bert/bert_en_uncased_L-8_H-512_A-8/1',\n",
        "    'small_bert/bert_en_uncased_L-8_H-768_A-12':\n",
        "        'https://tfhub.dev/tensorflow/small_bert/bert_en_uncased_L-8_H-768_A-12/1',\n",
        "    'small_bert/bert_en_uncased_L-10_H-128_A-2':\n",
        "        'https://tfhub.dev/tensorflow/small_bert/bert_en_uncased_L-10_H-128_A-2/1',\n",
        "    'small_bert/bert_en_uncased_L-10_H-256_A-4':\n",
        "        'https://tfhub.dev/tensorflow/small_bert/bert_en_uncased_L-10_H-256_A-4/1',\n",
        "    'small_bert/bert_en_uncased_L-10_H-512_A-8':\n",
        "        'https://tfhub.dev/tensorflow/small_bert/bert_en_uncased_L-10_H-512_A-8/1',\n",
        "    'small_bert/bert_en_uncased_L-10_H-768_A-12':\n",
        "        'https://tfhub.dev/tensorflow/small_bert/bert_en_uncased_L-10_H-768_A-12/1',\n",
        "    'small_bert/bert_en_uncased_L-12_H-128_A-2':\n",
        "        'https://tfhub.dev/tensorflow/small_bert/bert_en_uncased_L-12_H-128_A-2/1',\n",
        "    'small_bert/bert_en_uncased_L-12_H-256_A-4':\n",
        "        'https://tfhub.dev/tensorflow/small_bert/bert_en_uncased_L-12_H-256_A-4/1',\n",
        "    'small_bert/bert_en_uncased_L-12_H-512_A-8':\n",
        "        'https://tfhub.dev/tensorflow/small_bert/bert_en_uncased_L-12_H-512_A-8/1',\n",
        "    'small_bert/bert_en_uncased_L-12_H-768_A-12':\n",
        "        'https://tfhub.dev/tensorflow/small_bert/bert_en_uncased_L-12_H-768_A-12/1',\n",
        "    'albert_en_base':\n",
        "        'https://tfhub.dev/tensorflow/albert_en_base/2',\n",
        "    'electra_small':\n",
        "        'https://tfhub.dev/google/electra_small/2',\n",
        "    'electra_base':\n",
        "        'https://tfhub.dev/google/electra_base/2',\n",
        "    'experts_pubmed':\n",
        "        'https://tfhub.dev/google/experts/bert/pubmed/2',\n",
        "    'experts_wiki_books':\n",
        "        'https://tfhub.dev/google/experts/bert/wiki_books/2',\n",
        "    'talking-heads_base':\n",
        "        'https://tfhub.dev/tensorflow/talkheads_ggelu_bert_en_base/1',\n",
        "}\n",
        "\n",
        "map_model_to_preprocess = {\n",
        "    'bert_en_uncased_L-12_H-768_A-12':\n",
        "        'https://tfhub.dev/tensorflow/bert_en_uncased_preprocess/3',\n",
        "    'bert_en_cased_L-12_H-768_A-12':\n",
        "        'https://tfhub.dev/tensorflow/bert_en_cased_preprocess/3',\n",
        "    'small_bert/bert_en_uncased_L-2_H-128_A-2':\n",
        "        'https://tfhub.dev/tensorflow/bert_en_uncased_preprocess/3',\n",
        "    'small_bert/bert_en_uncased_L-2_H-256_A-4':\n",
        "        'https://tfhub.dev/tensorflow/bert_en_uncased_preprocess/3',\n",
        "    'small_bert/bert_en_uncased_L-2_H-512_A-8':\n",
        "        'https://tfhub.dev/tensorflow/bert_en_uncased_preprocess/3',\n",
        "    'small_bert/bert_en_uncased_L-2_H-768_A-12':\n",
        "        'https://tfhub.dev/tensorflow/bert_en_uncased_preprocess/3',\n",
        "    'small_bert/bert_en_uncased_L-4_H-128_A-2':\n",
        "        'https://tfhub.dev/tensorflow/bert_en_uncased_preprocess/3',\n",
        "    'small_bert/bert_en_uncased_L-4_H-256_A-4':\n",
        "        'https://tfhub.dev/tensorflow/bert_en_uncased_preprocess/3',\n",
        "    'small_bert/bert_en_uncased_L-4_H-512_A-8':\n",
        "        'https://tfhub.dev/tensorflow/bert_en_uncased_preprocess/3',\n",
        "    'small_bert/bert_en_uncased_L-4_H-768_A-12':\n",
        "        'https://tfhub.dev/tensorflow/bert_en_uncased_preprocess/3',\n",
        "    'small_bert/bert_en_uncased_L-6_H-128_A-2':\n",
        "        'https://tfhub.dev/tensorflow/bert_en_uncased_preprocess/3',\n",
        "    'small_bert/bert_en_uncased_L-6_H-256_A-4':\n",
        "        'https://tfhub.dev/tensorflow/bert_en_uncased_preprocess/3',\n",
        "    'small_bert/bert_en_uncased_L-6_H-512_A-8':\n",
        "        'https://tfhub.dev/tensorflow/bert_en_uncased_preprocess/3',\n",
        "    'small_bert/bert_en_uncased_L-6_H-768_A-12':\n",
        "        'https://tfhub.dev/tensorflow/bert_en_uncased_preprocess/3',\n",
        "    'small_bert/bert_en_uncased_L-8_H-128_A-2':\n",
        "        'https://tfhub.dev/tensorflow/bert_en_uncased_preprocess/3',\n",
        "    'small_bert/bert_en_uncased_L-8_H-256_A-4':\n",
        "        'https://tfhub.dev/tensorflow/bert_en_uncased_preprocess/3',\n",
        "    'small_bert/bert_en_uncased_L-8_H-512_A-8':\n",
        "        'https://tfhub.dev/tensorflow/bert_en_uncased_preprocess/3',\n",
        "    'small_bert/bert_en_uncased_L-8_H-768_A-12':\n",
        "        'https://tfhub.dev/tensorflow/bert_en_uncased_preprocess/3',\n",
        "    'small_bert/bert_en_uncased_L-10_H-128_A-2':\n",
        "        'https://tfhub.dev/tensorflow/bert_en_uncased_preprocess/3',\n",
        "    'small_bert/bert_en_uncased_L-10_H-256_A-4':\n",
        "        'https://tfhub.dev/tensorflow/bert_en_uncased_preprocess/3',\n",
        "    'small_bert/bert_en_uncased_L-10_H-512_A-8':\n",
        "        'https://tfhub.dev/tensorflow/bert_en_uncased_preprocess/3',\n",
        "    'small_bert/bert_en_uncased_L-10_H-768_A-12':\n",
        "        'https://tfhub.dev/tensorflow/bert_en_uncased_preprocess/3',\n",
        "    'small_bert/bert_en_uncased_L-12_H-128_A-2':\n",
        "        'https://tfhub.dev/tensorflow/bert_en_uncased_preprocess/3',\n",
        "    'small_bert/bert_en_uncased_L-12_H-256_A-4':\n",
        "        'https://tfhub.dev/tensorflow/bert_en_uncased_preprocess/3',\n",
        "    'small_bert/bert_en_uncased_L-12_H-512_A-8':\n",
        "        'https://tfhub.dev/tensorflow/bert_en_uncased_preprocess/3',\n",
        "    'small_bert/bert_en_uncased_L-12_H-768_A-12':\n",
        "        'https://tfhub.dev/tensorflow/bert_en_uncased_preprocess/3',\n",
        "    'bert_multi_cased_L-12_H-768_A-12':\n",
        "        'https://tfhub.dev/tensorflow/bert_multi_cased_preprocess/3',\n",
        "    'albert_en_base':\n",
        "        'https://tfhub.dev/tensorflow/albert_en_preprocess/3',\n",
        "    'electra_small':\n",
        "        'https://tfhub.dev/tensorflow/bert_en_uncased_preprocess/3',\n",
        "    'electra_base':\n",
        "        'https://tfhub.dev/tensorflow/bert_en_uncased_preprocess/3',\n",
        "    'experts_pubmed':\n",
        "        'https://tfhub.dev/tensorflow/bert_en_uncased_preprocess/3',\n",
        "    'experts_wiki_books':\n",
        "        'https://tfhub.dev/tensorflow/bert_en_uncased_preprocess/3',\n",
        "    'talking-heads_base':\n",
        "        'https://tfhub.dev/tensorflow/bert_en_uncased_preprocess/3',\n",
        "}\n",
        "\n",
        "tfhub_handle_encoder = map_name_to_handle[bert_model_name]\n",
        "tfhub_handle_preprocess = map_model_to_preprocess[bert_model_name]\n",
        "\n",
        "print(f'BERT model selected           : {tfhub_handle_encoder}')\n",
        "print(f'Preprocess model auto-selected: {tfhub_handle_preprocess}')"
      ],
      "id": "SbUOdpHbZEcn",
      "execution_count": 73,
      "outputs": [
        {
          "output_type": "stream",
          "name": "stdout",
          "text": [
            "BERT model selected           : https://tfhub.dev/tensorflow/small_bert/bert_en_uncased_L-2_H-128_A-2/1\n",
            "Preprocess model auto-selected: https://tfhub.dev/tensorflow/bert_en_uncased_preprocess/3\n"
          ]
        }
      ]
    },
    {
      "cell_type": "code",
      "metadata": {
        "id": "pGJL9m2lbLcV"
      },
      "source": [
        "def make_dataset(texts, labels):\n",
        "  AUTOTUNE = tf.data.AUTOTUNE\n",
        "  texts = list(texts)\n",
        "  labels = list(labels)\n",
        "  dataset = tf.data.Dataset.from_tensor_slices((texts, labels))\n",
        "  dataset = dataset.batch(64)\n",
        "  return dataset.cache().prefetch(buffer_size=AUTOTUNE)"
      ],
      "id": "pGJL9m2lbLcV",
      "execution_count": 74,
      "outputs": []
    },
    {
      "cell_type": "code",
      "metadata": {
        "id": "rzFwI7-SszzM"
      },
      "source": [
        "def build_classifier_model():\n",
        "  text_input = tf.keras.layers.Input(shape=(), dtype=tf.string, name='text')\n",
        "  preprocessing_layer = hub.KerasLayer(tfhub_handle_preprocess, name='preprocessing')\n",
        "  encoder_inputs = preprocessing_layer(text_input)\n",
        "  encoder = hub.KerasLayer(tfhub_handle_encoder, trainable=True, name='BERT_encoder')\n",
        "  outputs = encoder(encoder_inputs)\n",
        "  net = outputs['pooled_output']\n",
        "  net = tf.keras.layers.Dropout(0.8)(net)\n",
        "  net = tf.keras.layers.Dense(5, activation='softmax', name='classifier')(net)\n",
        "  return tf.keras.Model(text_input, net)"
      ],
      "id": "rzFwI7-SszzM",
      "execution_count": 75,
      "outputs": []
    },
    {
      "cell_type": "code",
      "metadata": {
        "colab": {
          "base_uri": "https://localhost:8080/",
          "height": 91
        },
        "id": "1fxWvwUf614e",
        "outputId": "9c0fd13d-3ed8-4e19-d3ff-a3db75ef8c3e"
      },
      "source": [
        "\"\"\"# creating class weights to reduce class imbalance\n",
        "from sklearn.utils import class_weight\n",
        "class_weights = class_weight.compute_class_weight(\n",
        "                                        class_weight = \"balanced\",\n",
        "                                        classes = np.unique(y_train),\n",
        "                                        y = y_train                                                    \n",
        "                                    )\n",
        "class_weights = dict(zip(np.unique(y_train), class_weights))\n",
        "class_weights\"\"\""
      ],
      "id": "1fxWvwUf614e",
      "execution_count": 76,
      "outputs": [
        {
          "output_type": "execute_result",
          "data": {
            "application/vnd.google.colaboratory.intrinsic+json": {
              "type": "string"
            },
            "text/plain": [
              "'# creating class weights to reduce class imbalance\\nfrom sklearn.utils import class_weight\\nclass_weights = class_weight.compute_class_weight(\\n                                        class_weight = \"balanced\",\\n                                        classes = np.unique(y_train),\\n                                        y = y_train                                                    \\n                                    )\\nclass_weights = dict(zip(np.unique(y_train), class_weights))\\nclass_weights'"
            ]
          },
          "metadata": {},
          "execution_count": 76
        }
      ]
    },
    {
      "cell_type": "code",
      "metadata": {
        "id": "2C1yv-BAsn8M"
      },
      "source": [
        "target = 'type'\n",
        "features = [c for c in train_df.columns if c not in ['type']]\n",
        "k = 4\n",
        "kf = StratifiedKFold(k)"
      ],
      "id": "2C1yv-BAsn8M",
      "execution_count": 77,
      "outputs": []
    },
    {
      "cell_type": "code",
      "metadata": {
        "colab": {
          "base_uri": "https://localhost:8080/"
        },
        "id": "V5AUcNjAskl8",
        "outputId": "c3fe4b52-f03d-4396-b324-e851bdaacec6"
      },
      "source": [
        "classifier_model = build_classifier_model()\n",
        "test_texts = [pair for pair in test['tweet']]\n",
        "preds = []\n",
        "\n",
        "for i, (tr_idx, vr_idx) in enumerate(kf.split(train_df, train_df[target])):\n",
        "\n",
        "    xtrain, ytrain = train_df.loc[tr_idx, features], train_df.loc[tr_idx, target]\n",
        "    xval, yval = train_df.loc[vr_idx, features], train_df.loc[vr_idx, target]\n",
        "\n",
        "    train_ds = make_dataset(xtrain['tweet'], ytrain)\n",
        "    val_ds = make_dataset(xval['tweet'], yval )\n",
        "\n",
        "    epochs = 3\n",
        "    steps_per_epoch = tf.data.experimental.cardinality(train_ds).numpy()\n",
        "    num_train_steps = steps_per_epoch * epochs\n",
        "    num_warmup_steps = int(0.1*num_train_steps)\n",
        "\n",
        "    init_lr = 5e-5\n",
        "    optimizer = optimization.create_optimizer(init_lr=init_lr,\n",
        "                                          num_train_steps=num_train_steps,\n",
        "                                          num_warmup_steps=num_warmup_steps,\n",
        "                                          optimizer_type='adamw')\n",
        "    \n",
        "    classifier_model.compile(optimizer=optimizer, loss=\"sparse_categorical_crossentropy\", metrics=[\"accuracy\"])\n",
        "\n",
        "    print(f'Training model with {tfhub_handle_encoder}')\n",
        "    classifier_model.fit(x=train_ds,\n",
        "                               validation_data=val_ds,\n",
        "                               epochs=epochs)\n",
        "    \n",
        "    ss = classifier_model.predict(test_texts)\n",
        "    preds.append(ss)"
      ],
      "id": "V5AUcNjAskl8",
      "execution_count": 80,
      "outputs": [
        {
          "output_type": "stream",
          "name": "stdout",
          "text": [
            "Training model with https://tfhub.dev/tensorflow/small_bert/bert_en_uncased_L-2_H-128_A-2/1\n",
            "Epoch 1/3\n",
            "465/465 [==============================] - 215s 454ms/step - loss: 0.5731 - accuracy: 0.8427 - val_loss: 0.0627 - val_accuracy: 0.9804\n",
            "Epoch 2/3\n",
            "465/465 [==============================] - 211s 454ms/step - loss: 0.0683 - accuracy: 0.9823 - val_loss: 0.0287 - val_accuracy: 0.9923\n",
            "Epoch 3/3\n",
            "465/465 [==============================] - 211s 455ms/step - loss: 0.0407 - accuracy: 0.9889 - val_loss: 0.0226 - val_accuracy: 0.9948\n",
            "Training model with https://tfhub.dev/tensorflow/small_bert/bert_en_uncased_L-2_H-128_A-2/1\n",
            "Epoch 1/3\n",
            "465/465 [==============================] - 211s 448ms/step - loss: 0.0293 - accuracy: 0.9930 - val_loss: 0.0080 - val_accuracy: 0.9983\n",
            "Epoch 2/3\n",
            "465/465 [==============================] - 209s 449ms/step - loss: 0.0146 - accuracy: 0.9963 - val_loss: 0.0053 - val_accuracy: 0.9990\n",
            "Epoch 3/3\n",
            "465/465 [==============================] - 209s 450ms/step - loss: 0.0101 - accuracy: 0.9979 - val_loss: 0.0046 - val_accuracy: 0.9991\n",
            "Training model with https://tfhub.dev/tensorflow/small_bert/bert_en_uncased_L-2_H-128_A-2/1\n",
            "Epoch 1/3\n",
            "465/465 [==============================] - 218s 460ms/step - loss: 0.0109 - accuracy: 0.9979 - val_loss: 1.9243e-04 - val_accuracy: 1.0000\n",
            "Epoch 2/3\n",
            "465/465 [==============================] - 219s 470ms/step - loss: 0.0064 - accuracy: 0.9987 - val_loss: 9.7199e-04 - val_accuracy: 0.9998\n",
            "Epoch 3/3\n",
            "465/465 [==============================] - 215s 463ms/step - loss: 0.0055 - accuracy: 0.9990 - val_loss: 7.0556e-04 - val_accuracy: 0.9998\n",
            "Training model with https://tfhub.dev/tensorflow/small_bert/bert_en_uncased_L-2_H-128_A-2/1\n",
            "Epoch 1/3\n",
            "465/465 [==============================] - 217s 461ms/step - loss: 0.0046 - accuracy: 0.9990 - val_loss: 0.0021 - val_accuracy: 0.9996\n",
            "Epoch 2/3\n",
            "465/465 [==============================] - 212s 456ms/step - loss: 0.0044 - accuracy: 0.9992 - val_loss: 0.0015 - val_accuracy: 0.9997\n",
            "Epoch 3/3\n",
            "465/465 [==============================] - 212s 455ms/step - loss: 0.0032 - accuracy: 0.9997 - val_loss: 0.0015 - val_accuracy: 0.9998\n"
          ]
        }
      ]
    },
    {
      "cell_type": "code",
      "metadata": {
        "id": "MKLMmdIEkiM2"
      },
      "source": [
        "ss = np.mean(preds, axis=0)"
      ],
      "id": "MKLMmdIEkiM2",
      "execution_count": 164,
      "outputs": []
    },
    {
      "cell_type": "code",
      "metadata": {
        "id": "6t3R8Eri6i2v"
      },
      "source": [
        "ss = pd.DataFrame(np.mean(preds, axis=0))"
      ],
      "id": "6t3R8Eri6i2v",
      "execution_count": 165,
      "outputs": []
    },
    {
      "cell_type": "code",
      "metadata": {
        "id": "dh_UDA6dkiPc",
        "colab": {
          "base_uri": "https://localhost:8080/"
        },
        "outputId": "15d9399d-e541-492e-9c27-05a4866b83a1"
      },
      "source": [
        "ss.shape"
      ],
      "id": "dh_UDA6dkiPc",
      "execution_count": 168,
      "outputs": [
        {
          "output_type": "execute_result",
          "data": {
            "text/plain": [
              "(15581, 5)"
            ]
          },
          "metadata": {},
          "execution_count": 168
        }
      ]
    },
    {
      "cell_type": "code",
      "metadata": {
        "id": "ZUkTQwkOkiSm"
      },
      "source": [
        "pred = [np.argmax(i) for i in ss.values]"
      ],
      "id": "ZUkTQwkOkiSm",
      "execution_count": 169,
      "outputs": []
    },
    {
      "cell_type": "code",
      "metadata": {
        "id": "YspMp2-tlaoR"
      },
      "source": [
        "final = le.inverse_transform(pred)"
      ],
      "id": "YspMp2-tlaoR",
      "execution_count": 170,
      "outputs": []
    },
    {
      "cell_type": "code",
      "metadata": {
        "id": "KkbHf2YaxdXf"
      },
      "source": [
        "sub['type'] = final"
      ],
      "id": "KkbHf2YaxdXf",
      "execution_count": 171,
      "outputs": []
    },
    {
      "cell_type": "code",
      "metadata": {
        "colab": {
          "base_uri": "https://localhost:8080/"
        },
        "id": "btB4yDMM3Ygm",
        "outputId": "2cfb60e8-8b7c-4968-f913-12a6c9c6677c"
      },
      "source": [
        "sub['type'].value_counts()"
      ],
      "id": "btB4yDMM3Ygm",
      "execution_count": 172,
      "outputs": [
        {
          "output_type": "execute_result",
          "data": {
            "text/plain": [
              "sexual_violence                 10966\n",
              "Harmful_Traditional_practice     2280\n",
              "Physical_violence                1227\n",
              "emotional_violence                666\n",
              "economic_violence                 442\n",
              "Name: type, dtype: int64"
            ]
          },
          "metadata": {},
          "execution_count": 172
        }
      ]
    },
    {
      "cell_type": "code",
      "metadata": {
        "colab": {
          "base_uri": "https://localhost:8080/"
        },
        "id": "MILi7CYBro2D",
        "outputId": "7c78e087-45dc-4fbe-b3e4-33763bbb04a2"
      },
      "source": [
        "sub['type'].value_counts()"
      ],
      "id": "MILi7CYBro2D",
      "execution_count": 173,
      "outputs": [
        {
          "output_type": "execute_result",
          "data": {
            "text/plain": [
              "sexual_violence                 10966\n",
              "Harmful_Traditional_practice     2280\n",
              "Physical_violence                1227\n",
              "emotional_violence                666\n",
              "economic_violence                 442\n",
              "Name: type, dtype: int64"
            ]
          },
          "metadata": {},
          "execution_count": 173
        }
      ]
    }
  ]
}